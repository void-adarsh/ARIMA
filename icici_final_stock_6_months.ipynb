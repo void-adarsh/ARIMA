{
 "cells": [
  {
   "cell_type": "markdown",
   "metadata": {},
   "source": [
    "# STOCK PRICE PREDICTION OF ICICI COMPANY(6 months data)"
   ]
  },
  {
   "cell_type": "code",
   "execution_count": 1,
   "metadata": {},
   "outputs": [],
   "source": [
    "#IMPORTING ALL REQUIRED PACKAGES\n",
    "%matplotlib inline\n",
    "import numpy as np\n",
    "import pandas as pd\n",
    "from matplotlib import pyplot as plt\n",
    "from matplotlib.pylab import rcParams\n",
    "import seaborn as sns\n",
    "import statsmodels.api as sm\n",
    "import warnings\n",
    "warnings.filterwarnings('ignore')\n",
    "plt.style.use('fivethirtyeight')\n",
    "from pylab import rcParams\n",
    "rcParams['figure.figsize'] = 10, 6\n",
    "from statsmodels.tsa.stattools import adfuller\n",
    "from statsmodels.tsa.seasonal import seasonal_decompose\n",
    "from statsmodels.tsa.arima_model import ARIMA\n",
    "from pmdarima.arima import auto_arima\n",
    "from sklearn.metrics import mean_squared_error, mean_absolute_error\n",
    "import math\n",
    "import matplotlib.ticker as ticker"
   ]
  },
  {
   "cell_type": "code",
   "execution_count": 2,
   "metadata": {},
   "outputs": [
    {
     "data": {
      "text/html": [
       "<div>\n",
       "<style scoped>\n",
       "    .dataframe tbody tr th:only-of-type {\n",
       "        vertical-align: middle;\n",
       "    }\n",
       "\n",
       "    .dataframe tbody tr th {\n",
       "        vertical-align: top;\n",
       "    }\n",
       "\n",
       "    .dataframe thead th {\n",
       "        text-align: right;\n",
       "    }\n",
       "</style>\n",
       "<table border=\"1\" class=\"dataframe\">\n",
       "  <thead>\n",
       "    <tr style=\"text-align: right;\">\n",
       "      <th></th>\n",
       "      <th>Date</th>\n",
       "      <th>Open</th>\n",
       "      <th>High</th>\n",
       "      <th>Low</th>\n",
       "      <th>Close</th>\n",
       "      <th>Adj Close</th>\n",
       "      <th>Volume</th>\n",
       "    </tr>\n",
       "  </thead>\n",
       "  <tbody>\n",
       "    <tr>\n",
       "      <th>0</th>\n",
       "      <td>2020-10-15</td>\n",
       "      <td>407.000000</td>\n",
       "      <td>409.850006</td>\n",
       "      <td>389.200012</td>\n",
       "      <td>390.899994</td>\n",
       "      <td>390.899994</td>\n",
       "      <td>1838244.0</td>\n",
       "    </tr>\n",
       "    <tr>\n",
       "      <th>1</th>\n",
       "      <td>2020-10-16</td>\n",
       "      <td>394.200012</td>\n",
       "      <td>401.299988</td>\n",
       "      <td>390.549988</td>\n",
       "      <td>395.950012</td>\n",
       "      <td>395.950012</td>\n",
       "      <td>574078.0</td>\n",
       "    </tr>\n",
       "    <tr>\n",
       "      <th>2</th>\n",
       "      <td>2020-10-19</td>\n",
       "      <td>400.100006</td>\n",
       "      <td>418.700012</td>\n",
       "      <td>400.100006</td>\n",
       "      <td>417.049988</td>\n",
       "      <td>417.049988</td>\n",
       "      <td>1261923.0</td>\n",
       "    </tr>\n",
       "    <tr>\n",
       "      <th>3</th>\n",
       "      <td>2020-10-20</td>\n",
       "      <td>413.950012</td>\n",
       "      <td>416.850006</td>\n",
       "      <td>410.799988</td>\n",
       "      <td>414.549988</td>\n",
       "      <td>414.549988</td>\n",
       "      <td>627993.0</td>\n",
       "    </tr>\n",
       "    <tr>\n",
       "      <th>4</th>\n",
       "      <td>2020-10-21</td>\n",
       "      <td>416.000000</td>\n",
       "      <td>428.250000</td>\n",
       "      <td>410.399994</td>\n",
       "      <td>420.350006</td>\n",
       "      <td>420.350006</td>\n",
       "      <td>1058131.0</td>\n",
       "    </tr>\n",
       "    <tr>\n",
       "      <th>...</th>\n",
       "      <td>...</td>\n",
       "      <td>...</td>\n",
       "      <td>...</td>\n",
       "      <td>...</td>\n",
       "      <td>...</td>\n",
       "      <td>...</td>\n",
       "      <td>...</td>\n",
       "    </tr>\n",
       "    <tr>\n",
       "      <th>118</th>\n",
       "      <td>2021-04-07</td>\n",
       "      <td>568.400024</td>\n",
       "      <td>580.000000</td>\n",
       "      <td>560.000000</td>\n",
       "      <td>577.549988</td>\n",
       "      <td>577.549988</td>\n",
       "      <td>1332613.0</td>\n",
       "    </tr>\n",
       "    <tr>\n",
       "      <th>119</th>\n",
       "      <td>2021-04-08</td>\n",
       "      <td>581.700012</td>\n",
       "      <td>585.750000</td>\n",
       "      <td>573.250000</td>\n",
       "      <td>576.750000</td>\n",
       "      <td>576.750000</td>\n",
       "      <td>3042430.0</td>\n",
       "    </tr>\n",
       "    <tr>\n",
       "      <th>120</th>\n",
       "      <td>2021-04-09</td>\n",
       "      <td>574.500000</td>\n",
       "      <td>579.150024</td>\n",
       "      <td>565.049988</td>\n",
       "      <td>566.450012</td>\n",
       "      <td>566.450012</td>\n",
       "      <td>834558.0</td>\n",
       "    </tr>\n",
       "    <tr>\n",
       "      <th>121</th>\n",
       "      <td>2021-04-12</td>\n",
       "      <td>548.650024</td>\n",
       "      <td>551.799988</td>\n",
       "      <td>531.250000</td>\n",
       "      <td>538.400024</td>\n",
       "      <td>538.400024</td>\n",
       "      <td>1419739.0</td>\n",
       "    </tr>\n",
       "    <tr>\n",
       "      <th>122</th>\n",
       "      <td>2021-04-13</td>\n",
       "      <td>539.250000</td>\n",
       "      <td>563.700012</td>\n",
       "      <td>538.000000</td>\n",
       "      <td>560.450012</td>\n",
       "      <td>560.450012</td>\n",
       "      <td>578306.0</td>\n",
       "    </tr>\n",
       "  </tbody>\n",
       "</table>\n",
       "<p>123 rows × 7 columns</p>\n",
       "</div>"
      ],
      "text/plain": [
       "           Date        Open        High         Low       Close   Adj Close  \\\n",
       "0    2020-10-15  407.000000  409.850006  389.200012  390.899994  390.899994   \n",
       "1    2020-10-16  394.200012  401.299988  390.549988  395.950012  395.950012   \n",
       "2    2020-10-19  400.100006  418.700012  400.100006  417.049988  417.049988   \n",
       "3    2020-10-20  413.950012  416.850006  410.799988  414.549988  414.549988   \n",
       "4    2020-10-21  416.000000  428.250000  410.399994  420.350006  420.350006   \n",
       "..          ...         ...         ...         ...         ...         ...   \n",
       "118  2021-04-07  568.400024  580.000000  560.000000  577.549988  577.549988   \n",
       "119  2021-04-08  581.700012  585.750000  573.250000  576.750000  576.750000   \n",
       "120  2021-04-09  574.500000  579.150024  565.049988  566.450012  566.450012   \n",
       "121  2021-04-12  548.650024  551.799988  531.250000  538.400024  538.400024   \n",
       "122  2021-04-13  539.250000  563.700012  538.000000  560.450012  560.450012   \n",
       "\n",
       "        Volume  \n",
       "0    1838244.0  \n",
       "1     574078.0  \n",
       "2    1261923.0  \n",
       "3     627993.0  \n",
       "4    1058131.0  \n",
       "..         ...  \n",
       "118  1332613.0  \n",
       "119  3042430.0  \n",
       "120   834558.0  \n",
       "121  1419739.0  \n",
       "122   578306.0  \n",
       "\n",
       "[123 rows x 7 columns]"
      ]
     },
     "execution_count": 2,
     "metadata": {},
     "output_type": "execute_result"
    }
   ],
   "source": [
    "ic_6m=pd.read_csv('ic_6.csv')\n",
    "ic_6m"
   ]
  },
  {
   "cell_type": "markdown",
   "metadata": {},
   "source": [
    "# EXPLORATORY ic_6m ANALYSIS(EDA)"
   ]
  },
  {
   "cell_type": "code",
   "execution_count": 3,
   "metadata": {
    "scrolled": true
   },
   "outputs": [
    {
     "data": {
      "text/plain": [
       "(123, 7)"
      ]
     },
     "execution_count": 3,
     "metadata": {},
     "output_type": "execute_result"
    }
   ],
   "source": [
    "#CHECKING SHAPE OF DATASET\n",
    "ic_6m.shape"
   ]
  },
  {
   "cell_type": "code",
   "execution_count": 4,
   "metadata": {
    "scrolled": true
   },
   "outputs": [
    {
     "data": {
      "text/plain": [
       "Date         0\n",
       "Open         1\n",
       "High         1\n",
       "Low          1\n",
       "Close        1\n",
       "Adj Close    1\n",
       "Volume       1\n",
       "dtype: int64"
      ]
     },
     "execution_count": 4,
     "metadata": {},
     "output_type": "execute_result"
    }
   ],
   "source": [
    "#CHECKING NULL VALUES IN DATASET\n",
    "ic_6m.isnull().sum()"
   ]
  },
  {
   "cell_type": "code",
   "execution_count": 5,
   "metadata": {},
   "outputs": [
    {
     "data": {
      "text/html": [
       "<div>\n",
       "<style scoped>\n",
       "    .dataframe tbody tr th:only-of-type {\n",
       "        vertical-align: middle;\n",
       "    }\n",
       "\n",
       "    .dataframe tbody tr th {\n",
       "        vertical-align: top;\n",
       "    }\n",
       "\n",
       "    .dataframe thead th {\n",
       "        text-align: right;\n",
       "    }\n",
       "</style>\n",
       "<table border=\"1\" class=\"dataframe\">\n",
       "  <thead>\n",
       "    <tr style=\"text-align: right;\">\n",
       "      <th></th>\n",
       "      <th>Date</th>\n",
       "      <th>Open</th>\n",
       "      <th>High</th>\n",
       "      <th>Low</th>\n",
       "      <th>Close</th>\n",
       "      <th>Adj Close</th>\n",
       "      <th>Volume</th>\n",
       "    </tr>\n",
       "  </thead>\n",
       "  <tbody>\n",
       "    <tr>\n",
       "      <th>22</th>\n",
       "      <td>2020-11-14</td>\n",
       "      <td>NaN</td>\n",
       "      <td>NaN</td>\n",
       "      <td>NaN</td>\n",
       "      <td>NaN</td>\n",
       "      <td>NaN</td>\n",
       "      <td>NaN</td>\n",
       "    </tr>\n",
       "  </tbody>\n",
       "</table>\n",
       "</div>"
      ],
      "text/plain": [
       "          Date  Open  High  Low  Close  Adj Close  Volume\n",
       "22  2020-11-14   NaN   NaN  NaN    NaN        NaN     NaN"
      ]
     },
     "execution_count": 5,
     "metadata": {},
     "output_type": "execute_result"
    }
   ],
   "source": [
    "ic_6m[ic_6m.isna().any(axis=1)]"
   ]
  },
  {
   "cell_type": "code",
   "execution_count": 6,
   "metadata": {
    "scrolled": true
   },
   "outputs": [
    {
     "data": {
      "text/html": [
       "<div>\n",
       "<style scoped>\n",
       "    .dataframe tbody tr th:only-of-type {\n",
       "        vertical-align: middle;\n",
       "    }\n",
       "\n",
       "    .dataframe tbody tr th {\n",
       "        vertical-align: top;\n",
       "    }\n",
       "\n",
       "    .dataframe thead th {\n",
       "        text-align: right;\n",
       "    }\n",
       "</style>\n",
       "<table border=\"1\" class=\"dataframe\">\n",
       "  <thead>\n",
       "    <tr style=\"text-align: right;\">\n",
       "      <th></th>\n",
       "      <th>Date</th>\n",
       "      <th>Open</th>\n",
       "      <th>High</th>\n",
       "      <th>Low</th>\n",
       "      <th>Close</th>\n",
       "      <th>Adj Close</th>\n",
       "      <th>Volume</th>\n",
       "    </tr>\n",
       "  </thead>\n",
       "  <tbody>\n",
       "    <tr>\n",
       "      <th>0</th>\n",
       "      <td>2020-10-15</td>\n",
       "      <td>407.000000</td>\n",
       "      <td>409.850006</td>\n",
       "      <td>389.200012</td>\n",
       "      <td>390.899994</td>\n",
       "      <td>390.899994</td>\n",
       "      <td>1838244.0</td>\n",
       "    </tr>\n",
       "    <tr>\n",
       "      <th>1</th>\n",
       "      <td>2020-10-16</td>\n",
       "      <td>394.200012</td>\n",
       "      <td>401.299988</td>\n",
       "      <td>390.549988</td>\n",
       "      <td>395.950012</td>\n",
       "      <td>395.950012</td>\n",
       "      <td>574078.0</td>\n",
       "    </tr>\n",
       "    <tr>\n",
       "      <th>2</th>\n",
       "      <td>2020-10-19</td>\n",
       "      <td>400.100006</td>\n",
       "      <td>418.700012</td>\n",
       "      <td>400.100006</td>\n",
       "      <td>417.049988</td>\n",
       "      <td>417.049988</td>\n",
       "      <td>1261923.0</td>\n",
       "    </tr>\n",
       "    <tr>\n",
       "      <th>3</th>\n",
       "      <td>2020-10-20</td>\n",
       "      <td>413.950012</td>\n",
       "      <td>416.850006</td>\n",
       "      <td>410.799988</td>\n",
       "      <td>414.549988</td>\n",
       "      <td>414.549988</td>\n",
       "      <td>627993.0</td>\n",
       "    </tr>\n",
       "    <tr>\n",
       "      <th>4</th>\n",
       "      <td>2020-10-21</td>\n",
       "      <td>416.000000</td>\n",
       "      <td>428.250000</td>\n",
       "      <td>410.399994</td>\n",
       "      <td>420.350006</td>\n",
       "      <td>420.350006</td>\n",
       "      <td>1058131.0</td>\n",
       "    </tr>\n",
       "    <tr>\n",
       "      <th>...</th>\n",
       "      <td>...</td>\n",
       "      <td>...</td>\n",
       "      <td>...</td>\n",
       "      <td>...</td>\n",
       "      <td>...</td>\n",
       "      <td>...</td>\n",
       "      <td>...</td>\n",
       "    </tr>\n",
       "    <tr>\n",
       "      <th>118</th>\n",
       "      <td>2021-04-07</td>\n",
       "      <td>568.400024</td>\n",
       "      <td>580.000000</td>\n",
       "      <td>560.000000</td>\n",
       "      <td>577.549988</td>\n",
       "      <td>577.549988</td>\n",
       "      <td>1332613.0</td>\n",
       "    </tr>\n",
       "    <tr>\n",
       "      <th>119</th>\n",
       "      <td>2021-04-08</td>\n",
       "      <td>581.700012</td>\n",
       "      <td>585.750000</td>\n",
       "      <td>573.250000</td>\n",
       "      <td>576.750000</td>\n",
       "      <td>576.750000</td>\n",
       "      <td>3042430.0</td>\n",
       "    </tr>\n",
       "    <tr>\n",
       "      <th>120</th>\n",
       "      <td>2021-04-09</td>\n",
       "      <td>574.500000</td>\n",
       "      <td>579.150024</td>\n",
       "      <td>565.049988</td>\n",
       "      <td>566.450012</td>\n",
       "      <td>566.450012</td>\n",
       "      <td>834558.0</td>\n",
       "    </tr>\n",
       "    <tr>\n",
       "      <th>121</th>\n",
       "      <td>2021-04-12</td>\n",
       "      <td>548.650024</td>\n",
       "      <td>551.799988</td>\n",
       "      <td>531.250000</td>\n",
       "      <td>538.400024</td>\n",
       "      <td>538.400024</td>\n",
       "      <td>1419739.0</td>\n",
       "    </tr>\n",
       "    <tr>\n",
       "      <th>122</th>\n",
       "      <td>2021-04-13</td>\n",
       "      <td>539.250000</td>\n",
       "      <td>563.700012</td>\n",
       "      <td>538.000000</td>\n",
       "      <td>560.450012</td>\n",
       "      <td>560.450012</td>\n",
       "      <td>578306.0</td>\n",
       "    </tr>\n",
       "  </tbody>\n",
       "</table>\n",
       "<p>122 rows × 7 columns</p>\n",
       "</div>"
      ],
      "text/plain": [
       "           Date        Open        High         Low       Close   Adj Close  \\\n",
       "0    2020-10-15  407.000000  409.850006  389.200012  390.899994  390.899994   \n",
       "1    2020-10-16  394.200012  401.299988  390.549988  395.950012  395.950012   \n",
       "2    2020-10-19  400.100006  418.700012  400.100006  417.049988  417.049988   \n",
       "3    2020-10-20  413.950012  416.850006  410.799988  414.549988  414.549988   \n",
       "4    2020-10-21  416.000000  428.250000  410.399994  420.350006  420.350006   \n",
       "..          ...         ...         ...         ...         ...         ...   \n",
       "118  2021-04-07  568.400024  580.000000  560.000000  577.549988  577.549988   \n",
       "119  2021-04-08  581.700012  585.750000  573.250000  576.750000  576.750000   \n",
       "120  2021-04-09  574.500000  579.150024  565.049988  566.450012  566.450012   \n",
       "121  2021-04-12  548.650024  551.799988  531.250000  538.400024  538.400024   \n",
       "122  2021-04-13  539.250000  563.700012  538.000000  560.450012  560.450012   \n",
       "\n",
       "        Volume  \n",
       "0    1838244.0  \n",
       "1     574078.0  \n",
       "2    1261923.0  \n",
       "3     627993.0  \n",
       "4    1058131.0  \n",
       "..         ...  \n",
       "118  1332613.0  \n",
       "119  3042430.0  \n",
       "120   834558.0  \n",
       "121  1419739.0  \n",
       "122   578306.0  \n",
       "\n",
       "[122 rows x 7 columns]"
      ]
     },
     "execution_count": 6,
     "metadata": {},
     "output_type": "execute_result"
    }
   ],
   "source": [
    "#SINCE THE DATASET HAD NULL VALUES, WE REMOVE IT USING DROPNA() \n",
    "ic_6m1=ic_6m.dropna()\n",
    "ic_6m1"
   ]
  },
  {
   "cell_type": "code",
   "execution_count": 7,
   "metadata": {},
   "outputs": [
    {
     "data": {
      "text/plain": [
       "Date         0\n",
       "Open         0\n",
       "High         0\n",
       "Low          0\n",
       "Close        0\n",
       "Adj Close    0\n",
       "Volume       0\n",
       "dtype: int64"
      ]
     },
     "execution_count": 7,
     "metadata": {},
     "output_type": "execute_result"
    }
   ],
   "source": [
    "ic_6m1.isnull().sum()"
   ]
  },
  {
   "cell_type": "code",
   "execution_count": 8,
   "metadata": {},
   "outputs": [
    {
     "data": {
      "text/html": [
       "<div>\n",
       "<style scoped>\n",
       "    .dataframe tbody tr th:only-of-type {\n",
       "        vertical-align: middle;\n",
       "    }\n",
       "\n",
       "    .dataframe tbody tr th {\n",
       "        vertical-align: top;\n",
       "    }\n",
       "\n",
       "    .dataframe thead th {\n",
       "        text-align: right;\n",
       "    }\n",
       "</style>\n",
       "<table border=\"1\" class=\"dataframe\">\n",
       "  <thead>\n",
       "    <tr style=\"text-align: right;\">\n",
       "      <th></th>\n",
       "      <th>Open</th>\n",
       "      <th>High</th>\n",
       "      <th>Low</th>\n",
       "      <th>Close</th>\n",
       "      <th>Adj Close</th>\n",
       "      <th>Volume</th>\n",
       "    </tr>\n",
       "  </thead>\n",
       "  <tbody>\n",
       "    <tr>\n",
       "      <th>count</th>\n",
       "      <td>122.000000</td>\n",
       "      <td>122.000000</td>\n",
       "      <td>122.000000</td>\n",
       "      <td>122.000000</td>\n",
       "      <td>122.000000</td>\n",
       "      <td>1.220000e+02</td>\n",
       "    </tr>\n",
       "    <tr>\n",
       "      <th>mean</th>\n",
       "      <td>537.020085</td>\n",
       "      <td>544.178691</td>\n",
       "      <td>528.232377</td>\n",
       "      <td>536.825411</td>\n",
       "      <td>536.825411</td>\n",
       "      <td>1.168860e+06</td>\n",
       "    </tr>\n",
       "    <tr>\n",
       "      <th>std</th>\n",
       "      <td>71.182572</td>\n",
       "      <td>71.998231</td>\n",
       "      <td>69.841426</td>\n",
       "      <td>70.822022</td>\n",
       "      <td>70.822022</td>\n",
       "      <td>6.996838e+05</td>\n",
       "    </tr>\n",
       "    <tr>\n",
       "      <th>min</th>\n",
       "      <td>391.600006</td>\n",
       "      <td>401.299988</td>\n",
       "      <td>388.100006</td>\n",
       "      <td>390.899994</td>\n",
       "      <td>390.899994</td>\n",
       "      <td>3.600280e+05</td>\n",
       "    </tr>\n",
       "    <tr>\n",
       "      <th>25%</th>\n",
       "      <td>485.125000</td>\n",
       "      <td>491.162499</td>\n",
       "      <td>476.612503</td>\n",
       "      <td>485.599999</td>\n",
       "      <td>485.599999</td>\n",
       "      <td>7.163090e+05</td>\n",
       "    </tr>\n",
       "    <tr>\n",
       "      <th>50%</th>\n",
       "      <td>538.074982</td>\n",
       "      <td>546.300018</td>\n",
       "      <td>531.000000</td>\n",
       "      <td>537.574982</td>\n",
       "      <td>537.574982</td>\n",
       "      <td>9.356885e+05</td>\n",
       "    </tr>\n",
       "    <tr>\n",
       "      <th>75%</th>\n",
       "      <td>595.237488</td>\n",
       "      <td>607.000015</td>\n",
       "      <td>581.875015</td>\n",
       "      <td>594.662521</td>\n",
       "      <td>594.662521</td>\n",
       "      <td>1.394349e+06</td>\n",
       "    </tr>\n",
       "    <tr>\n",
       "      <th>max</th>\n",
       "      <td>674.500000</td>\n",
       "      <td>679.299988</td>\n",
       "      <td>652.000000</td>\n",
       "      <td>674.000000</td>\n",
       "      <td>674.000000</td>\n",
       "      <td>4.022201e+06</td>\n",
       "    </tr>\n",
       "  </tbody>\n",
       "</table>\n",
       "</div>"
      ],
      "text/plain": [
       "             Open        High         Low       Close   Adj Close  \\\n",
       "count  122.000000  122.000000  122.000000  122.000000  122.000000   \n",
       "mean   537.020085  544.178691  528.232377  536.825411  536.825411   \n",
       "std     71.182572   71.998231   69.841426   70.822022   70.822022   \n",
       "min    391.600006  401.299988  388.100006  390.899994  390.899994   \n",
       "25%    485.125000  491.162499  476.612503  485.599999  485.599999   \n",
       "50%    538.074982  546.300018  531.000000  537.574982  537.574982   \n",
       "75%    595.237488  607.000015  581.875015  594.662521  594.662521   \n",
       "max    674.500000  679.299988  652.000000  674.000000  674.000000   \n",
       "\n",
       "             Volume  \n",
       "count  1.220000e+02  \n",
       "mean   1.168860e+06  \n",
       "std    6.996838e+05  \n",
       "min    3.600280e+05  \n",
       "25%    7.163090e+05  \n",
       "50%    9.356885e+05  \n",
       "75%    1.394349e+06  \n",
       "max    4.022201e+06  "
      ]
     },
     "execution_count": 8,
     "metadata": {},
     "output_type": "execute_result"
    }
   ],
   "source": [
    "#DESCIPTION OF DATASET\n",
    "ic_6m1.describe()"
   ]
  },
  {
   "cell_type": "code",
   "execution_count": 9,
   "metadata": {},
   "outputs": [
    {
     "name": "stdout",
     "output_type": "stream",
     "text": [
      "<class 'pandas.core.frame.DataFrame'>\n",
      "Int64Index: 122 entries, 0 to 122\n",
      "Data columns (total 7 columns):\n",
      " #   Column     Non-Null Count  Dtype  \n",
      "---  ------     --------------  -----  \n",
      " 0   Date       122 non-null    object \n",
      " 1   Open       122 non-null    float64\n",
      " 2   High       122 non-null    float64\n",
      " 3   Low        122 non-null    float64\n",
      " 4   Close      122 non-null    float64\n",
      " 5   Adj Close  122 non-null    float64\n",
      " 6   Volume     122 non-null    float64\n",
      "dtypes: float64(6), object(1)\n",
      "memory usage: 7.6+ KB\n"
     ]
    }
   ],
   "source": [
    "#INFORMATION ABOUT DATASET\n",
    "ic_6m1.info()"
   ]
  },
  {
   "cell_type": "code",
   "execution_count": 10,
   "metadata": {},
   "outputs": [],
   "source": [
    "#GROUPING OF TWO SPECIFIC COLUMNS, DATE AND CLOSE\n",
    "ic_6m2 = ic_6m1.groupby('Date')[['Close']].mean()\n"
   ]
  },
  {
   "cell_type": "code",
   "execution_count": 11,
   "metadata": {},
   "outputs": [
    {
     "data": {
      "text/html": [
       "<div>\n",
       "<style scoped>\n",
       "    .dataframe tbody tr th:only-of-type {\n",
       "        vertical-align: middle;\n",
       "    }\n",
       "\n",
       "    .dataframe tbody tr th {\n",
       "        vertical-align: top;\n",
       "    }\n",
       "\n",
       "    .dataframe thead th {\n",
       "        text-align: right;\n",
       "    }\n",
       "</style>\n",
       "<table border=\"1\" class=\"dataframe\">\n",
       "  <thead>\n",
       "    <tr style=\"text-align: right;\">\n",
       "      <th></th>\n",
       "      <th>Close</th>\n",
       "    </tr>\n",
       "    <tr>\n",
       "      <th>Date</th>\n",
       "      <th></th>\n",
       "    </tr>\n",
       "  </thead>\n",
       "  <tbody>\n",
       "    <tr>\n",
       "      <th>2020-10-15</th>\n",
       "      <td>390.899994</td>\n",
       "    </tr>\n",
       "    <tr>\n",
       "      <th>2020-10-16</th>\n",
       "      <td>395.950012</td>\n",
       "    </tr>\n",
       "    <tr>\n",
       "      <th>2020-10-19</th>\n",
       "      <td>417.049988</td>\n",
       "    </tr>\n",
       "    <tr>\n",
       "      <th>2020-10-20</th>\n",
       "      <td>414.549988</td>\n",
       "    </tr>\n",
       "    <tr>\n",
       "      <th>2020-10-21</th>\n",
       "      <td>420.350006</td>\n",
       "    </tr>\n",
       "    <tr>\n",
       "      <th>...</th>\n",
       "      <td>...</td>\n",
       "    </tr>\n",
       "    <tr>\n",
       "      <th>2021-04-07</th>\n",
       "      <td>577.549988</td>\n",
       "    </tr>\n",
       "    <tr>\n",
       "      <th>2021-04-08</th>\n",
       "      <td>576.750000</td>\n",
       "    </tr>\n",
       "    <tr>\n",
       "      <th>2021-04-09</th>\n",
       "      <td>566.450012</td>\n",
       "    </tr>\n",
       "    <tr>\n",
       "      <th>2021-04-12</th>\n",
       "      <td>538.400024</td>\n",
       "    </tr>\n",
       "    <tr>\n",
       "      <th>2021-04-13</th>\n",
       "      <td>560.450012</td>\n",
       "    </tr>\n",
       "  </tbody>\n",
       "</table>\n",
       "<p>122 rows × 1 columns</p>\n",
       "</div>"
      ],
      "text/plain": [
       "                 Close\n",
       "Date                  \n",
       "2020-10-15  390.899994\n",
       "2020-10-16  395.950012\n",
       "2020-10-19  417.049988\n",
       "2020-10-20  414.549988\n",
       "2020-10-21  420.350006\n",
       "...                ...\n",
       "2021-04-07  577.549988\n",
       "2021-04-08  576.750000\n",
       "2021-04-09  566.450012\n",
       "2021-04-12  538.400024\n",
       "2021-04-13  560.450012\n",
       "\n",
       "[122 rows x 1 columns]"
      ]
     },
     "execution_count": 11,
     "metadata": {},
     "output_type": "execute_result"
    }
   ],
   "source": [
    "ic_6m2"
   ]
  },
  {
   "cell_type": "code",
   "execution_count": 12,
   "metadata": {},
   "outputs": [
    {
     "data": {
      "text/plain": [
       "str"
      ]
     },
     "execution_count": 12,
     "metadata": {},
     "output_type": "execute_result"
    }
   ],
   "source": [
    "type(ic_6m1.Date[0])"
   ]
  },
  {
   "cell_type": "code",
   "execution_count": 13,
   "metadata": {},
   "outputs": [],
   "source": [
    "ic_6m1['Date'] = pd.to_datetime(ic_6m1['Date'], format='%Y-%m-%d')"
   ]
  },
  {
   "cell_type": "code",
   "execution_count": 14,
   "metadata": {},
   "outputs": [
    {
     "data": {
      "text/plain": [
       "pandas._libs.tslibs.timestamps.Timestamp"
      ]
     },
     "execution_count": 14,
     "metadata": {},
     "output_type": "execute_result"
    }
   ],
   "source": [
    "type(ic_6m1.Date[0])"
   ]
  },
  {
   "cell_type": "markdown",
   "metadata": {},
   "source": [
    "# VISUALIZATION OF DATASET"
   ]
  },
  {
   "cell_type": "code",
   "execution_count": 15,
   "metadata": {},
   "outputs": [
    {
     "data": {
      "text/plain": [
       "Text(0, 0.5, 'Price')"
      ]
     },
     "execution_count": 15,
     "metadata": {},
     "output_type": "execute_result"
    },
    {
     "data": {
      "image/png": "[encoded data removed]",
      "text/plain": [
       "<Figure size 864x576 with 1 Axes>"
      ]
     },
     "metadata": {},
     "output_type": "display_data"
    }
   ],
   "source": [
    "#plotting the graph with date againts closing price(in month)\n",
    "ic_6m1.plot(figsize=(12,8),x='Date',y='Close',title='Closing Price(in Year)',fontsize=14)\n",
    "plt.xlabel(\"Month\")\n",
    "plt.ylabel(\"Price\")"
   ]
  },
  {
   "cell_type": "code",
   "execution_count": 16,
   "metadata": {},
   "outputs": [
    {
     "data": {
      "text/html": [
       "<div>\n",
       "<style scoped>\n",
       "    .dataframe tbody tr th:only-of-type {\n",
       "        vertical-align: middle;\n",
       "    }\n",
       "\n",
       "    .dataframe tbody tr th {\n",
       "        vertical-align: top;\n",
       "    }\n",
       "\n",
       "    .dataframe thead th {\n",
       "        text-align: right;\n",
       "    }\n",
       "</style>\n",
       "<table border=\"1\" class=\"dataframe\">\n",
       "  <thead>\n",
       "    <tr style=\"text-align: right;\">\n",
       "      <th></th>\n",
       "      <th>Close</th>\n",
       "    </tr>\n",
       "    <tr>\n",
       "      <th>Date</th>\n",
       "      <th></th>\n",
       "    </tr>\n",
       "  </thead>\n",
       "  <tbody>\n",
       "    <tr>\n",
       "      <th>2020-10-15</th>\n",
       "      <td>390.899994</td>\n",
       "    </tr>\n",
       "    <tr>\n",
       "      <th>2020-10-16</th>\n",
       "      <td>395.950012</td>\n",
       "    </tr>\n",
       "    <tr>\n",
       "      <th>2020-10-19</th>\n",
       "      <td>417.049988</td>\n",
       "    </tr>\n",
       "    <tr>\n",
       "      <th>2020-10-20</th>\n",
       "      <td>414.549988</td>\n",
       "    </tr>\n",
       "    <tr>\n",
       "      <th>2020-10-21</th>\n",
       "      <td>420.350006</td>\n",
       "    </tr>\n",
       "    <tr>\n",
       "      <th>...</th>\n",
       "      <td>...</td>\n",
       "    </tr>\n",
       "    <tr>\n",
       "      <th>2021-04-07</th>\n",
       "      <td>577.549988</td>\n",
       "    </tr>\n",
       "    <tr>\n",
       "      <th>2021-04-08</th>\n",
       "      <td>576.750000</td>\n",
       "    </tr>\n",
       "    <tr>\n",
       "      <th>2021-04-09</th>\n",
       "      <td>566.450012</td>\n",
       "    </tr>\n",
       "    <tr>\n",
       "      <th>2021-04-12</th>\n",
       "      <td>538.400024</td>\n",
       "    </tr>\n",
       "    <tr>\n",
       "      <th>2021-04-13</th>\n",
       "      <td>560.450012</td>\n",
       "    </tr>\n",
       "  </tbody>\n",
       "</table>\n",
       "<p>122 rows × 1 columns</p>\n",
       "</div>"
      ],
      "text/plain": [
       "                 Close\n",
       "Date                  \n",
       "2020-10-15  390.899994\n",
       "2020-10-16  395.950012\n",
       "2020-10-19  417.049988\n",
       "2020-10-20  414.549988\n",
       "2020-10-21  420.350006\n",
       "...                ...\n",
       "2021-04-07  577.549988\n",
       "2021-04-08  576.750000\n",
       "2021-04-09  566.450012\n",
       "2021-04-12  538.400024\n",
       "2021-04-13  560.450012\n",
       "\n",
       "[122 rows x 1 columns]"
      ]
     },
     "execution_count": 16,
     "metadata": {},
     "output_type": "execute_result"
    }
   ],
   "source": [
    "ic_6m2"
   ]
  },
  {
   "cell_type": "code",
   "execution_count": 17,
   "metadata": {},
   "outputs": [
    {
     "data": {
      "image/png": "[encoded data removed]",
      "text/plain": [
       "<Figure size 864x576 with 2 Axes>"
      ]
     },
     "metadata": {},
     "output_type": "display_data"
    }
   ],
   "source": [
    "fig = plt.figure(figsize=(12,8))\n",
    "ax1 = fig.add_subplot(211)\n",
    "fig = sm.graphics.tsa.plot_acf(ic_6m2['Close'].iloc[13:],lags=40,ax=ax1)\n",
    "ax2 = fig.add_subplot(212)\n",
    "fig = sm.graphics.tsa.plot_pacf(ic_6m2['Close'].iloc[13:],lags=40,ax=ax2)"
   ]
  },
  {
   "cell_type": "markdown",
   "metadata": {},
   "source": [
    "# DICKEY FULLER TEST(For checking stationarity)"
   ]
  },
  {
   "cell_type": "code",
   "execution_count": 18,
   "metadata": {},
   "outputs": [],
   "source": [
    "test_result=adfuller(ic_6m2['Close'])\n",
    "#Ho: It is non stationary\n",
    "#H1: It is stationary\n",
    "\n",
    "def adfuller_test(sales):\n",
    "    result=adfuller(sales)\n",
    "    labels = ['ADF Test Statistic','p-value','#Lags Used','Number of Observations Used']\n",
    "    for value,label in zip(result,labels):\n",
    "        print(label+' : '+str(value) )\n",
    "    if result[1] <= 0.05:\n",
    "        print(\"strong evidence against the null hypothesis(Ho), reject the null hypothesis. ic_6m has no unit root and is stationary\")\n",
    "    else:\n",
    "        print(\"weak evidence against null hypothesis, time series has a unit root, indicating it is non-stationary \")\n"
   ]
  },
  {
   "cell_type": "code",
   "execution_count": 19,
   "metadata": {},
   "outputs": [
    {
     "name": "stdout",
     "output_type": "stream",
     "text": [
      "ADF Test Statistic : -1.772821863104194\n",
      "p-value : 0.39403589785925924\n",
      "#Lags Used : 4\n",
      "Number of Observations Used : 117\n",
      "weak evidence against null hypothesis, time series has a unit root, indicating it is non-stationary \n"
     ]
    }
   ],
   "source": [
    "adfuller_test(ic_6m2['Close'])"
   ]
  },
  {
   "cell_type": "code",
   "execution_count": 20,
   "metadata": {},
   "outputs": [
    {
     "data": {
      "text/plain": [
       "Date\n",
       "2020-10-15           NaN\n",
       "2020-10-16    390.899994\n",
       "2020-10-19    395.950012\n",
       "2020-10-20    417.049988\n",
       "2020-10-21    414.549988\n",
       "                 ...    \n",
       "2021-04-07    565.950012\n",
       "2021-04-08    577.549988\n",
       "2021-04-09    576.750000\n",
       "2021-04-12    566.450012\n",
       "2021-04-13    538.400024\n",
       "Name: Close, Length: 122, dtype: float64"
      ]
     },
     "execution_count": 20,
     "metadata": {},
     "output_type": "execute_result"
    }
   ],
   "source": [
    "ic_6m2['Close First Difference'] = ic_6m2['Close'] - ic_6m2['Close'].shift(1)\n",
    "ic_6m2['Close'].shift(1)\n"
   ]
  },
  {
   "cell_type": "code",
   "execution_count": 21,
   "metadata": {},
   "outputs": [
    {
     "name": "stdout",
     "output_type": "stream",
     "text": [
      "ADF Test Statistic : -5.45003572946504\n",
      "p-value : 2.657022677986702e-06\n",
      "#Lags Used : 3\n",
      "Number of Observations Used : 117\n",
      "strong evidence against the null hypothesis(Ho), reject the null hypothesis. ic_6m has no unit root and is stationary\n"
     ]
    },
    {
     "data": {
      "text/plain": [
       "Text(0.5, 1.0, 'ICICI 6 months')"
      ]
     },
     "execution_count": 21,
     "metadata": {},
     "output_type": "execute_result"
    },
    {
     "data": {
      "image/png": "[encoded data removed]",
      "text/plain": [
       "<Figure size 864x576 with 1 Axes>"
      ]
     },
     "metadata": {},
     "output_type": "display_data"
    }
   ],
   "source": [
    "adfuller_test(ic_6m2['Close First Difference'].dropna())\n",
    "ic_6m2['Close First Difference'].plot(figsize=(12,8))\n",
    "plt.xlabel(\"Year\")\n",
    "plt.ylabel(\"Price\")\n",
    "plt.title('ICICI 6 months')"
   ]
  },
  {
   "cell_type": "markdown",
   "metadata": {},
   "source": [
    "AUTO ARIMA FUNCTION"
   ]
  },
  {
   "cell_type": "code",
   "execution_count": 22,
   "metadata": {
    "scrolled": true
   },
   "outputs": [
    {
     "name": "stdout",
     "output_type": "stream",
     "text": [
      "Performing stepwise search to minimize aic\n",
      " ARIMA(2,1,2)(0,0,0)[0] intercept   : AIC=inf, Time=0.34 sec\n",
      " ARIMA(0,1,0)(0,0,0)[0] intercept   : AIC=971.666, Time=0.02 sec\n",
      " ARIMA(1,1,0)(0,0,0)[0] intercept   : AIC=973.654, Time=0.05 sec\n",
      " ARIMA(0,1,1)(0,0,0)[0] intercept   : AIC=973.654, Time=0.06 sec\n",
      " ARIMA(0,1,0)(0,0,0)[0]             : AIC=971.023, Time=0.02 sec\n",
      " ARIMA(1,1,1)(0,0,0)[0] intercept   : AIC=975.654, Time=0.17 sec\n",
      "\n",
      "Best model:  ARIMA(0,1,0)(0,0,0)[0]          \n",
      "Total fit time: 0.668 seconds\n"
     ]
    }
   ],
   "source": [
    "stepwise_fit = auto_arima(ic_6m2['Close'], trace=True,suppress_warnings=True)"
   ]
  },
  {
   "cell_type": "markdown",
   "metadata": {},
   "source": [
    "ARIMA MODEL(TRAINING AND TESTING OF DATA)"
   ]
  },
  {
   "cell_type": "code",
   "execution_count": 23,
   "metadata": {},
   "outputs": [
    {
     "name": "stdout",
     "output_type": "stream",
     "text": [
      "Testing Mean Squared Error is 218.2136907074512\n"
     ]
    }
   ],
   "source": [
    "train_ic_6m, test_ic_6m = ic_6m2[0:int(len(ic_6m2)*0.7)], ic_6m2[int(len(ic_6m2)*0.7):]\n",
    "training_ic_6m = train_ic_6m['Close'].values\n",
    "test_ic_6m = test_ic_6m['Close'].values\n",
    "history = [x for x in training_ic_6m]\n",
    "model_predictions = []\n",
    "N_test_observations = len(test_ic_6m)\n",
    "for time_point in range(N_test_observations):\n",
    "    model = ARIMA(history, order=(0,1,0))\n",
    "    model_fit = model.fit(disp=0)\n",
    "    output = model_fit.forecast()\n",
    "    yhat = output[0]\n",
    "    model_predictions.append(yhat)\n",
    "    true_test_value = test_ic_6m[time_point]\n",
    "    history.append(true_test_value)\n",
    "MSE_error = mean_squared_error(test_ic_6m, model_predictions)\n",
    "print('Testing Mean Squared Error is {}'.format(MSE_error))\n"
   ]
  },
  {
   "cell_type": "markdown",
   "metadata": {},
   "source": [
    "FORECASTING"
   ]
  },
  {
   "cell_type": "code",
   "execution_count": 24,
   "metadata": {},
   "outputs": [
    {
     "data": {
      "image/png": "[encoded data removed]",
      "text/plain": [
       "<Figure size 720x432 with 1 Axes>"
      ]
     },
     "metadata": {},
     "output_type": "display_data"
    }
   ],
   "source": [
    "test_set_range = ic_6m2[int(len(ic_6m2)*0.7):].index\n",
    "ax = plt.axes()\n",
    "ax.xaxis.set_major_locator(ticker.MultipleLocator(1))\n",
    "plt.plot(test_set_range, model_predictions, color='blue', marker='o', linestyle='dashed',label='Predicted Price')\n",
    "plt.plot(test_set_range, test_ic_6m, color='red', label='Actual Price')\n",
    "plt.title('ICICI PRICES PREDICTION')\n",
    "plt.xlabel('Date')\n",
    "plt.ylabel('Prices')\n",
    "plt.xticks(rotation=90)\n",
    "plt.tick_params(axis='x' ,labelsize=8)\n",
    "# plt.xticks(np.arange(881,1259,50), ic_6m2.Date[881:1259:50])\n",
    "plt.legend()\n",
    "plt.tight_layout()\n",
    "plt.show()"
   ]
  },
  {
   "cell_type": "markdown",
   "metadata": {},
   "source": [
    "PREDICTION OF FUTURE PRICES"
   ]
  },
  {
   "cell_type": "code",
   "execution_count": 25,
   "metadata": {
    "scrolled": true
   },
   "outputs": [
    {
     "name": "stdout",
     "output_type": "stream",
     "text": [
      "[539.62919092 540.85835783 542.08752475 543.31669167 544.54585858\n",
      " 545.7750255  547.00419242 548.23335933 549.46252625 550.69169317\n",
      " 551.92086008 553.150027   554.37919392 555.60836083 556.83752775\n",
      " 558.06669467 559.29586158 560.5250285  561.75419542 562.98336233\n",
      " 564.21252925 565.44169617 566.67086308 567.90003    569.12919692\n",
      " 570.35836383 571.58753075 572.81669767 574.04586458 575.2750315\n",
      " 576.50419842 577.73336533]\n"
     ]
    }
   ],
   "source": [
    "pred=model_fit.predict(start=len(ic_6m2),end=len(ic_6m2)+30,typ='levels')\n",
    "print(pred)"
   ]
  },
  {
   "cell_type": "code",
   "execution_count": 26,
   "metadata": {},
   "outputs": [
    {
     "name": "stdout",
     "output_type": "stream",
     "text": [
      "MSE: 218.2136907074512\n",
      "MAE: 12.644817499376591\n",
      "RMSE: 14.772057768213987\n",
      "MAPE: 0.052027307332289656\n"
     ]
    }
   ],
   "source": [
    "# model performance\n",
    "mse = mean_squared_error(test_ic_6m, model_predictions)\n",
    "print('MSE: '+str(mse))\n",
    "mae = mean_absolute_error(test_ic_6m,model_predictions)\n",
    "print('MAE: '+str(mae))\n",
    "rmse = math.sqrt(mean_squared_error(test_ic_6m, model_predictions))\n",
    "print('RMSE: '+str(rmse))\n",
    "mape = np.mean(np.abs((model_predictions - test_ic_6m))/np.abs(test_ic_6m))\n",
    "print('MAPE: '+str(mape))"
   ]
  }
 ],
 "metadata": {
  "kernelspec": {
   "display_name": "Python 3",
   "language": "python",
   "name": "python3"
  },
  "language_info": {
   "codemirror_mode": {
    "name": "ipython",
    "version": 3
   },
   "file_extension": ".py",
   "mimetype": "text/x-python",
   "name": "python",
   "nbconvert_exporter": "python",
   "pygments_lexer": "ipython3",
   "version": "3.8.5"
  }
 },
 "nbformat": 4,
 "nbformat_minor": 4
}
